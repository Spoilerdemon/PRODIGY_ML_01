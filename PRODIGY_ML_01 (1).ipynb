{
  "nbformat": 4,
  "nbformat_minor": 0,
  "metadata": {
    "colab": {
      "provenance": []
    },
    "kernelspec": {
      "name": "python3",
      "display_name": "Python 3"
    },
    "language_info": {
      "name": "python"
    }
  },
  "cells": [
    {
      "cell_type": "code",
      "source": [
        "import zipfile\n",
        "import pandas as pd\n",
        "from sklearn.model_selection import train_test_split\n",
        "from sklearn.metrics import mean_squared_error, r2_score, mean_absolute_error\n",
        "from sklearn.linear_model import LinearRegression"
      ],
      "metadata": {
        "id": "Lq12mJRnKjp4"
      },
      "execution_count": 185,
      "outputs": []
    },
    {
      "cell_type": "code",
      "source": [
        "#locating file which i put in mnd\n",
        "zip_path = '/mnt/data/house-prices-advanced-regression-techniques.zip'\n",
        "extract_to_path = '/mnt/data/'"
      ],
      "metadata": {
        "id": "IWNk77-HKqOd"
      },
      "execution_count": 186,
      "outputs": []
    },
    {
      "cell_type": "code",
      "source": [
        "#extracting file\n",
        "with zipfile.ZipFile(zip_path, 'r') as zip_ref:\n",
        "    zip_ref.extractall(extract_to_path)"
      ],
      "metadata": {
        "id": "-8nIZ5cUKz4q"
      },
      "execution_count": 187,
      "outputs": []
    },
    {
      "cell_type": "code",
      "source": [
        "#loading data\n",
        "data_path = '/mnt/data/train.csv'\n",
        "data = pd.read_csv(data_path)"
      ],
      "metadata": {
        "id": "gLQMTL3pBdWv"
      },
      "execution_count": 188,
      "outputs": []
    },
    {
      "cell_type": "code",
      "source": [
        "#preparing data\n",
        "X = data[['GrLivArea', 'BedroomAbvGr', 'FullBath']]\n",
        "y = data['SalePrice']"
      ],
      "metadata": {
        "id": "gwZy_MFDK9V-"
      },
      "execution_count": 189,
      "outputs": []
    },
    {
      "cell_type": "code",
      "source": [
        "#spliting data\n",
        "X_train, X_test, y_train, y_test = train_test_split(X, y, test_size=0.3, random_state=42)"
      ],
      "metadata": {
        "id": "y2cnj7deLBqU"
      },
      "execution_count": 190,
      "outputs": []
    },
    {
      "cell_type": "code",
      "source": [
        "#trainging the model\n",
        "model = LinearRegression()\n",
        "model.fit(X_train, y_train)"
      ],
      "metadata": {
        "id": "WDtQ8Hw0LCS5",
        "collapsed": true
      },
      "execution_count": null,
      "outputs": []
    },
    {
      "cell_type": "code",
      "source": [
        "#predicting\n",
        "y_pred = model.predict(X_test)"
      ],
      "metadata": {
        "id": "YKyEfHBxLGa7"
      },
      "execution_count": 192,
      "outputs": []
    },
    {
      "cell_type": "code",
      "source": [
        "#evaaluations\n",
        "m2e = mean_squared_error(y_test, y_pred)\n",
        "mae = mean_absolute_error(y_test, y_pred)\n",
        "r2 = r2_score(y_test, y_pred)\n",
        "\n",
        "print(f'Mean Squared Error: {m2e}')\n",
        "print(f'Mean Absolute Error: {mae}')\n",
        "print(f'R² Score: {r2}')\n",
        "print(\"\\n\")"
      ],
      "metadata": {
        "collapsed": true,
        "id": "ljij0RUtLJ2N"
      },
      "execution_count": null,
      "outputs": []
    },
    {
      "cell_type": "code",
      "source": [
        "#fulfilling requirement to derive the predicted price\n",
        "new_data = pd.DataFrame({\n",
        "    'GrLivArea': [2000],\n",
        "    'BedroomAbvGr': [3],\n",
        "    'FullBath': [2]\n",
        "\n",
        "})"
      ],
      "metadata": {
        "id": "UZ_w7HqbLOA7"
      },
      "execution_count": 195,
      "outputs": []
    },
    {
      "cell_type": "code",
      "source": [
        "#predicting the price\n",
        "predictions = model.predict(new_data)\n",
        "\n",
        "print(\"\\n\")\n",
        "print(f'Housing price based on input : { predictions }')"
      ],
      "metadata": {
        "colab": {
          "base_uri": "https://localhost:8080/"
        },
        "id": "_PO7xokGLUe4",
        "outputId": "a2fdf50d-e7ab-4633-a914-eb4d09476659"
      },
      "execution_count": 196,
      "outputs": [
        {
          "output_type": "stream",
          "name": "stdout",
          "text": [
            "\n",
            "\n",
            "Housing price based on input : [239446.79857154]\n"
          ]
        }
      ]
    }
  ]
}